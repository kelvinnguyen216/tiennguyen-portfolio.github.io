{
 "cells": [
  {
   "cell_type": "code",
   "execution_count": 1,
   "id": "3cec0fdc",
   "metadata": {},
   "outputs": [],
   "source": [
    "import pandas as pd"
   ]
  },
  {
   "cell_type": "code",
   "execution_count": 2,
   "id": "589c4360",
   "metadata": {},
   "outputs": [],
   "source": [
    "prices = pd.read_csv('prices.csv')\n",
    "sales = pd.read_csv('sales.csv')"
   ]
  },
  {
   "cell_type": "code",
   "execution_count": 3,
   "id": "9407301f",
   "metadata": {},
   "outputs": [
    {
     "data": {
      "text/plain": [
       "product_id    0\n",
       "old_price     0\n",
       "new_price     0\n",
       "updated_at    0\n",
       "dtype: int64"
      ]
     },
     "execution_count": 3,
     "metadata": {},
     "output_type": "execute_result"
    }
   ],
   "source": [
    "prices.isna().sum()"
   ]
  },
  {
   "cell_type": "code",
   "execution_count": 4,
   "id": "8d1906ab",
   "metadata": {
    "scrolled": true
   },
   "outputs": [
    {
     "data": {
      "text/plain": [
       "product_id          0\n",
       "ordered_at          0\n",
       "quantity_ordered    0\n",
       "dtype: int64"
      ]
     },
     "execution_count": 4,
     "metadata": {},
     "output_type": "execute_result"
    }
   ],
   "source": [
    "sales.isna().sum()"
   ]
  },
  {
   "cell_type": "code",
   "execution_count": 5,
   "id": "4e79e119",
   "metadata": {},
   "outputs": [],
   "source": [
    "prices['updated_at'] = pd.to_datetime(prices['updated_at'], format='%m/%d/%y %H:%M')\n",
    "sales['ordered_at'] = pd.to_datetime(sales['ordered_at'], format='%m/%d/%y %H:%M')"
   ]
  },
  {
   "cell_type": "code",
   "execution_count": 6,
   "id": "a04dc9da",
   "metadata": {
    "scrolled": true
   },
   "outputs": [],
   "source": [
    "combine = pd.merge_asof(sales.sort_values('ordered_at'), prices.sort_values('updated_at'), by='product_id', left_on='ordered_at', right_on='updated_at', direction='nearest')"
   ]
  },
  {
   "cell_type": "code",
   "execution_count": 7,
   "id": "29fb4c85",
   "metadata": {},
   "outputs": [],
   "source": [
    "combine.loc[combine['ordered_at'] >= combine['updated_at'], 'per_product_price'] = combine['new_price']\n",
    "combine.loc[combine['ordered_at'] <  combine['updated_at'], 'per_product_price'] = combine['old_price']"
   ]
  },
  {
   "cell_type": "code",
   "execution_count": 8,
   "id": "b1297924",
   "metadata": {},
   "outputs": [],
   "source": [
    "combine['final_price'] = combine['per_product_price'] * combine['quantity_ordered']"
   ]
  },
  {
   "cell_type": "code",
   "execution_count": 9,
   "id": "d4785c10",
   "metadata": {},
   "outputs": [
    {
     "data": {
      "text/html": [
       "<div>\n",
       "<style scoped>\n",
       "    .dataframe tbody tr th:only-of-type {\n",
       "        vertical-align: middle;\n",
       "    }\n",
       "\n",
       "    .dataframe tbody tr th {\n",
       "        vertical-align: top;\n",
       "    }\n",
       "\n",
       "    .dataframe thead th {\n",
       "        text-align: right;\n",
       "    }\n",
       "</style>\n",
       "<table border=\"1\" class=\"dataframe\">\n",
       "  <thead>\n",
       "    <tr style=\"text-align: right;\">\n",
       "      <th></th>\n",
       "      <th>product_id</th>\n",
       "      <th>per_product_price</th>\n",
       "      <th>revenue</th>\n",
       "    </tr>\n",
       "  </thead>\n",
       "  <tbody>\n",
       "    <tr>\n",
       "      <th>0</th>\n",
       "      <td>64</td>\n",
       "      <td>239000.0</td>\n",
       "      <td>956000.0</td>\n",
       "    </tr>\n",
       "    <tr>\n",
       "      <th>1</th>\n",
       "      <td>3954203</td>\n",
       "      <td>57500.0</td>\n",
       "      <td>57500.0</td>\n",
       "    </tr>\n",
       "    <tr>\n",
       "      <th>2</th>\n",
       "      <td>3954203</td>\n",
       "      <td>60000.0</td>\n",
       "      <td>180000.0</td>\n",
       "    </tr>\n",
       "    <tr>\n",
       "      <th>3</th>\n",
       "      <td>3954203</td>\n",
       "      <td>64000.0</td>\n",
       "      <td>640000.0</td>\n",
       "    </tr>\n",
       "    <tr>\n",
       "      <th>4</th>\n",
       "      <td>3998909</td>\n",
       "      <td>15500.0</td>\n",
       "      <td>15500.0</td>\n",
       "    </tr>\n",
       "    <tr>\n",
       "      <th>5</th>\n",
       "      <td>3998909</td>\n",
       "      <td>16500.0</td>\n",
       "      <td>231000.0</td>\n",
       "    </tr>\n",
       "    <tr>\n",
       "      <th>6</th>\n",
       "      <td>3998909</td>\n",
       "      <td>17000.0</td>\n",
       "      <td>34000.0</td>\n",
       "    </tr>\n",
       "    <tr>\n",
       "      <th>7</th>\n",
       "      <td>4085861</td>\n",
       "      <td>52000.0</td>\n",
       "      <td>1040000.0</td>\n",
       "    </tr>\n",
       "    <tr>\n",
       "      <th>8</th>\n",
       "      <td>4085861</td>\n",
       "      <td>53500.0</td>\n",
       "      <td>2140000.0</td>\n",
       "    </tr>\n",
       "    <tr>\n",
       "      <th>9</th>\n",
       "      <td>4085861</td>\n",
       "      <td>58000.0</td>\n",
       "      <td>2204000.0</td>\n",
       "    </tr>\n",
       "    <tr>\n",
       "      <th>10</th>\n",
       "      <td>4085861</td>\n",
       "      <td>60000.0</td>\n",
       "      <td>180000.0</td>\n",
       "    </tr>\n",
       "    <tr>\n",
       "      <th>11</th>\n",
       "      <td>4085861</td>\n",
       "      <td>62500.0</td>\n",
       "      <td>1812500.0</td>\n",
       "    </tr>\n",
       "    <tr>\n",
       "      <th>12</th>\n",
       "      <td>4085861</td>\n",
       "      <td>67000.0</td>\n",
       "      <td>871000.0</td>\n",
       "    </tr>\n",
       "  </tbody>\n",
       "</table>\n",
       "</div>"
      ],
      "text/plain": [
       "    product_id  per_product_price    revenue\n",
       "0           64           239000.0   956000.0\n",
       "1      3954203            57500.0    57500.0\n",
       "2      3954203            60000.0   180000.0\n",
       "3      3954203            64000.0   640000.0\n",
       "4      3998909            15500.0    15500.0\n",
       "5      3998909            16500.0   231000.0\n",
       "6      3998909            17000.0    34000.0\n",
       "7      4085861            52000.0  1040000.0\n",
       "8      4085861            53500.0  2140000.0\n",
       "9      4085861            58000.0  2204000.0\n",
       "10     4085861            60000.0   180000.0\n",
       "11     4085861            62500.0  1812500.0\n",
       "12     4085861            67000.0   871000.0"
      ]
     },
     "execution_count": 9,
     "metadata": {},
     "output_type": "execute_result"
    }
   ],
   "source": [
    "combine.groupby(['product_id', 'per_product_price'], as_index=False)['final_price'].agg({'revenue':'sum'})"
   ]
  },
  {
   "cell_type": "code",
   "execution_count": 10,
   "id": "1a710386",
   "metadata": {},
   "outputs": [
    {
     "data": {
      "text/html": [
       "<div>\n",
       "<style scoped>\n",
       "    .dataframe tbody tr th:only-of-type {\n",
       "        vertical-align: middle;\n",
       "    }\n",
       "\n",
       "    .dataframe tbody tr th {\n",
       "        vertical-align: top;\n",
       "    }\n",
       "\n",
       "    .dataframe thead th {\n",
       "        text-align: right;\n",
       "    }\n",
       "</style>\n",
       "<table border=\"1\" class=\"dataframe\">\n",
       "  <thead>\n",
       "    <tr style=\"text-align: right;\">\n",
       "      <th></th>\n",
       "      <th>product_id</th>\n",
       "      <th>revenue</th>\n",
       "    </tr>\n",
       "  </thead>\n",
       "  <tbody>\n",
       "    <tr>\n",
       "      <th>0</th>\n",
       "      <td>64</td>\n",
       "      <td>956000.0</td>\n",
       "    </tr>\n",
       "    <tr>\n",
       "      <th>1</th>\n",
       "      <td>3954203</td>\n",
       "      <td>877500.0</td>\n",
       "    </tr>\n",
       "    <tr>\n",
       "      <th>2</th>\n",
       "      <td>3998909</td>\n",
       "      <td>280500.0</td>\n",
       "    </tr>\n",
       "    <tr>\n",
       "      <th>3</th>\n",
       "      <td>4085861</td>\n",
       "      <td>8247500.0</td>\n",
       "    </tr>\n",
       "  </tbody>\n",
       "</table>\n",
       "</div>"
      ],
      "text/plain": [
       "   product_id    revenue\n",
       "0          64   956000.0\n",
       "1     3954203   877500.0\n",
       "2     3998909   280500.0\n",
       "3     4085861  8247500.0"
      ]
     },
     "execution_count": 10,
     "metadata": {},
     "output_type": "execute_result"
    }
   ],
   "source": [
    "combine.groupby(['product_id'], as_index=False)['final_price'].agg({'revenue':'sum'})"
   ]
  },
  {
   "cell_type": "code",
   "execution_count": null,
   "id": "20961f21",
   "metadata": {},
   "outputs": [],
   "source": []
  }
 ],
 "metadata": {
  "kernelspec": {
   "display_name": "Python 3 (ipykernel)",
   "language": "python",
   "name": "python3"
  },
  "language_info": {
   "codemirror_mode": {
    "name": "ipython",
    "version": 3
   },
   "file_extension": ".py",
   "mimetype": "text/x-python",
   "name": "python",
   "nbconvert_exporter": "python",
   "pygments_lexer": "ipython3",
   "version": "3.11.5"
  }
 },
 "nbformat": 4,
 "nbformat_minor": 5
}
